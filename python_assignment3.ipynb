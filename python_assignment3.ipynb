{
 "cells": [
  {
   "cell_type": "markdown",
   "id": "56a5c838",
   "metadata": {},
   "source": [
    "# Python Assignment 3"
   ]
  },
  {
   "cell_type": "markdown",
   "id": "ebb479a1",
   "metadata": {},
   "source": [
    "Write a python program to implement your own myreduce() function which works exactly like python's built-in function reduce()."
   ]
  },
  {
   "cell_type": "code",
   "execution_count": 6,
   "id": "23ba9bc7",
   "metadata": {},
   "outputs": [],
   "source": [
    "def myreduce():\n",
    "    data = [2, 3, 5, 7, 11, 13, 17, 19, 23, 29]\n",
    "    product = 1\n",
    "    for i in data:\n",
    "        product = product * i\n",
    "    return product"
   ]
  },
  {
   "cell_type": "code",
   "execution_count": 7,
   "id": "8a5bf312",
   "metadata": {},
   "outputs": [
    {
     "data": {
      "text/plain": [
       "6469693230"
      ]
     },
     "execution_count": 7,
     "metadata": {},
     "output_type": "execute_result"
    }
   ],
   "source": [
    "myreduce()"
   ]
  },
  {
   "cell_type": "markdown",
   "id": "0f0a022c",
   "metadata": {},
   "source": [
    "Write a python program to implement your own myfilter() function which works exactly like python's built-in function filter(). "
   ]
  },
  {
   "cell_type": "code",
   "execution_count": 37,
   "id": "11c3ba8a",
   "metadata": {},
   "outputs": [],
   "source": [
    "import statistics\n",
    "def myfilter():\n",
    "    a  = [1.3, 2.5, 6.9, 9.87, 5.45, 3.2, 5.2]\n",
    "    avg = statistics.mean(a)\n",
    "    filtered_list = [d for d in a if d > avg]\n",
    "    filtered_list1= [d for d in a if d < avg]\n",
    "    print(\"This is my total avg:\", avg,\"\\n\"\"This is data which are above avg:\",filtered_list,\"\\n\"\"This is data which are below avg:\",filtered_list1)"
   ]
  },
  {
   "cell_type": "code",
   "execution_count": 38,
   "id": "0feac368",
   "metadata": {},
   "outputs": [
    {
     "name": "stdout",
     "output_type": "stream",
     "text": [
      "This is my total avg: 4.917142857142857 \n",
      "This is data which are above avg: [6.9, 9.87, 5.45, 5.2] \n",
      "This is data which are below avg: [1.3, 2.5, 3.2]\n"
     ]
    }
   ],
   "source": [
    "myfilter()"
   ]
  },
  {
   "cell_type": "markdown",
   "id": "43056dc1",
   "metadata": {},
   "source": [
    "2. Implement list compression to produce the following list. \n",
    "\n",
    "Write List comprehensions to produce the following lists "
   ]
  },
  {
   "cell_type": "code",
   "execution_count": 41,
   "id": "f5720f3a",
   "metadata": {},
   "outputs": [
    {
     "name": "stdout",
     "output_type": "stream",
     "text": [
      "['x', 'xx', 'xxx', 'xxxx', 'y', 'yy', 'yyy', 'yyyy', 'z', 'zz', 'zzz', 'zzzz']\n",
      "['x', 'y', 'z', 'xx', 'yy', 'zz', 'xxx', 'yyy', 'zzz', 'xxxx', 'yyyy', 'zzzz']\n"
     ]
    }
   ],
   "source": [
    "letters = list('xyz')\n",
    "pattern1 = [i*j for i in 'xyz' for j in range(1, 5)]\n",
    "pattern2 = [i*j for i in range(1, 5) for j in ('xyz')]\n",
    "print(pattern1)\n",
    "print(pattern2)"
   ]
  },
  {
   "cell_type": "code",
   "execution_count": 62,
   "id": "cb3d8ad7",
   "metadata": {},
   "outputs": [
    {
     "data": {
      "text/plain": [
       "[(1, 1), (2, 1), (3, 1), (1, 2), (2, 2), (3, 2), (1, 3), (2, 3), (3, 3)]"
      ]
     },
     "execution_count": 62,
     "metadata": {},
     "output_type": "execute_result"
    }
   ],
   "source": [
    "numbers = [1,2,3]\n",
    "pattern  = [(j,i) for i in numbers for j in numbers]\n",
    "pattern"
   ]
  },
  {
   "cell_type": "code",
   "execution_count": 67,
   "id": "ccceb997",
   "metadata": {},
   "outputs": [
    {
     "data": {
      "text/plain": [
       "[[2], [3], [4], [3], [4], [5], [4], [5], [6]]"
      ]
     },
     "execution_count": 67,
     "metadata": {},
     "output_type": "execute_result"
    }
   ],
   "source": [
    "number = [2, 3, 4]\n",
    "pattern3 = [[i+j] for i in number for j in range(0, 3)]\n",
    "pattern3"
   ]
  },
  {
   "cell_type": "code",
   "execution_count": 71,
   "id": "bb099a9f",
   "metadata": {},
   "outputs": [
    {
     "data": {
      "text/plain": [
       "[[2, 3, 4, 5], [3, 4, 5, 6], [4, 5, 6, 7], [5, 6, 7, 8]]"
      ]
     },
     "execution_count": 71,
     "metadata": {},
     "output_type": "execute_result"
    }
   ],
   "source": [
    "number = [2, 3, 4, 5]\n",
    "pattern3 = [[i+j for i in number] for j in range(0, 4)]\n",
    "pattern3"
   ]
  },
  {
   "cell_type": "code",
   "execution_count": null,
   "id": "c0dbf468",
   "metadata": {},
   "outputs": [],
   "source": []
  }
 ],
 "metadata": {
  "kernelspec": {
   "display_name": "Python 3",
   "language": "python",
   "name": "python3"
  },
  "language_info": {
   "codemirror_mode": {
    "name": "ipython",
    "version": 3
   },
   "file_extension": ".py",
   "mimetype": "text/x-python",
   "name": "python",
   "nbconvert_exporter": "python",
   "pygments_lexer": "ipython3",
   "version": "3.8.8"
  }
 },
 "nbformat": 4,
 "nbformat_minor": 5
}
